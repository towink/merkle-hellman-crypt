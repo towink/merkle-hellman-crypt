{
 "cells": [
  {
   "cell_type": "code",
   "execution_count": 14,
   "metadata": {
    "collapsed": true
   },
   "outputs": [],
   "source": [
    "from __future__ import division\n",
    "import itertools\n",
    "from random import randint, seed\n",
    "#from sage.all import gcd, inverse_mod"
   ]
  },
  {
   "cell_type": "code",
   "execution_count": 15,
   "metadata": {
    "collapsed": true
   },
   "outputs": [],
   "source": [
    "# https://en.wikibooks.org/wiki/Algorithm_Implementation/Mathematics/Extended_Euclidean_algorithm\n",
    "def xgcd(b, n):\n",
    "    x0, x1, y0, y1 = 1, 0, 0, 1\n",
    "    while n != 0:\n",
    "        q, b, n = b // n, n, b % n\n",
    "        x0, x1 = x1, x0 - q * x1\n",
    "        y0, y1 = y1, y0 - q * y1\n",
    "    return  b, x0, y0\n",
    "\n",
    "def gcd(a, b):\n",
    "    return xgcd(a, b)[0]\n",
    "\n",
    "def inverse_mod(r, q):\n",
    "    assert gcd(r, q) == 1\n",
    "    res = xgcd(r, q)[1]\n",
    "    if res < 0:\n",
    "        res += q\n",
    "    assert res > 0 and res < q\n",
    "    return res"
   ]
  },
  {
   "cell_type": "code",
   "execution_count": 29,
   "metadata": {
    "collapsed": true
   },
   "outputs": [],
   "source": [
    "def knapsack_brute_force(knapsack, x, solution):\n",
    "    \n",
    "    if x == 0:\n",
    "        return [True, solution]\n",
    "    \n",
    "    if len(knapsack) == 0:\n",
    "        if x == 0:\n",
    "            return [True, solution]\n",
    "        else:\n",
    "            print 'c'\n",
    "            return [False, []]\n",
    "    \n",
    "    if len(knapsack) == 1:\n",
    "        if knapsack[0] == x:\n",
    "            solution.append(x)\n",
    "            return [True, solution]\n",
    "        else:\n",
    "            return [False, []]\n",
    "    \n",
    "    \n",
    "    curr_elem = knapsack[0]\n",
    "    \n",
    "    if curr_elem > x:\n",
    "        return knapsack_brute_force(knapsack[1:], x, solution)\n",
    "    \n",
    "    else:\n",
    "        # try with taking the first element\n",
    "        result = knapsack_brute_force(knapsack[1:], x - curr_elem, solution)\n",
    "        if result[0]:\n",
    "            solution.append(curr_elem)\n",
    "            return [True, solution]\n",
    "        else:\n",
    "            # try with not taking the first element\n",
    "            return knapsack_brute_force(knapsack[1:], x, solution)\n",
    "        \n",
    "def knapsack_brute_force_bits(knapsack, x):\n",
    "    sol = knapsack_brute_force(knapsack, x, [])[1]\n",
    "    res = []\n",
    "    # dont ask my why in reversed order :D\n",
    "    for elem in reversed(knapsack):\n",
    "        if elem in sol:\n",
    "            res.append(1)\n",
    "        else:\n",
    "            res.append(0)\n",
    "    return res"
   ]
  },
  {
   "cell_type": "code",
   "execution_count": 30,
   "metadata": {
    "collapsed": true
   },
   "outputs": [],
   "source": [
    "def new_mochila(N=10, jump=10, sd=0):\n",
    "    seed(sd)\n",
    "    diff = [randint(1,jump) for k in range(N)]\n",
    "    mochila = [diff[0]]\n",
    "    for i in range(1,len(diff)):\n",
    "        new_val = sum(mochila) + diff[i]\n",
    "        mochila.append(new_val)\n",
    "    return mochila\n",
    "\n",
    "def split2len(s, n=16):\n",
    "    def _f(s, n):\n",
    "        while s:\n",
    "            yield s[:n]\n",
    "            s = s[n:]\n",
    "    return list(_f(s, n))\n",
    "\n",
    "def text_to_bytes(text, n=0):\n",
    "    largo = len(text)\n",
    "    if n > 0:\n",
    "        text = text + ' '*(n - (largo % n))\n",
    "    text = text.decode('utf8')\n",
    "    text_e = ''.join(['{0:016b}'.format(ord(c)) for c in text])\n",
    "    return text_e\n",
    "\n",
    "def bytes_to_text(binary):\n",
    "    return ''.join([unichr(int(ch,2)) for ch in split2len(binary)])\n",
    "\n",
    "def select_q(mochila):\n",
    "    suma = sum(mochila)\n",
    "    return randint(suma+1,suma*10)\n",
    "\n",
    "def select_r(q):\n",
    "    try_r = randint(2,q-1)\n",
    "    while gcd(try_r,q) != 1:\n",
    "        try_r = randint(2,q)\n",
    "    return try_r, inverse_mod(try_r,q)\n",
    "\n",
    "def mochila_camuflada(mochila, q, r):\n",
    "    return [(r*x)% q for x in mochila]\n",
    "\n",
    "def codificar(mochila_camuflada, text):\n",
    "    largo_mochila = len(mochila_camuflada)\n",
    "    #assert largo_mochila % 16 == 0\n",
    "    \n",
    "    texto_codificado = text_to_bytes(text,largo_mochila)\n",
    "    a_codifcar = split2len(texto_codificado, largo_mochila)\n",
    "    return [sum([b for (a,b) in zip(k,mochila_camuflada) if a=='1']) for k in a_codifcar], texto_codificado\n",
    "\n",
    "\n",
    "def unpack(n,l):\n",
    "    i = len(l) -1\n",
    "    for i in range(len(l)-1,-1,-1):\n",
    "        if n>0:\n",
    "            if l[i] <= n:\n",
    "                n -= l[i]\n",
    "                res = 1\n",
    "            else:\n",
    "                res = 0\n",
    "            i-=1\n",
    "        else:\n",
    "            res = 0\n",
    "        yield res\n",
    "\n",
    "def decodificar(chunk, mochila_o, q, i_r):\n",
    "    message = (chunk * i_r) % q\n",
    "    int_message = list(unpack(message,mochila_o))[::-1]\n",
    "    #print int_message\n",
    "    #print ''.join(map(str,int_message))\n",
    "    return bytes_to_text(''.join(map(str,int_message)))\n",
    "\n",
    "def decodificar2(chunks, mochila_o, q, i_r):\n",
    "    bits = []\n",
    "    for chunk in chunks:\n",
    "        message = (chunk * i_r) % q\n",
    "        bits += list(unpack(message, mochila_o))[::-1]\n",
    "        #print bits\n",
    "    #print ''.join(map(str,bits))\n",
    "    return bytes_to_text(''.join(map(str, bits)))\n",
    "\n",
    "def decodificar_brute_force(chunk, mochi_c):\n",
    "    int_message = list(knapsack_brute_force_bits(mochi_c, chunk))[::-1]\n",
    "    return bytes_to_text(''.join(map(str,int_message)))\n",
    "\n",
    "def decodificar_brute_force2(chunks, mochi_c):\n",
    "    bits = []\n",
    "    for chunk in chunks:\n",
    "        bits += list(knapsack_brute_force_bits(mochi_c, chunk))[::-1]\n",
    "    return bytes_to_text(''.join(map(str, bits)))"
   ]
  },
  {
   "cell_type": "code",
   "execution_count": 41,
   "metadata": {},
   "outputs": [
    {
     "name": "stdout",
     "output_type": "stream",
     "text": [
      "[39530014L, 34619690L, 191429691L, 203870449L, 60893735L, 257563646L, 227533913L, 218052690L, 44817879L, 238997799L, 160775327L, 219084113L, 139444144L, 35735247L, 192433224L, 207105096L, 259937827L, 84147815L, 274444914L, 23053732L]\n"
     ]
    }
   ],
   "source": [
    "mochi = new_mochila(N = 15, jump = 100)\n",
    "#print mochi\n",
    "q = select_q(mochi)\n",
    "r, i_r = select_r(q)\n",
    "mochi_c = mochila_camuflada(mochi, q, r)\n",
    "print mochi_c\n",
    "\n",
    "#texto = 'Nó mé gústÁn lás tÍldÉs'\n",
    "codifcado, x= codificar(mochi_c, wikipedia)\n",
    "#print codifcado, x"
   ]
  },
  {
   "cell_type": "code",
   "execution_count": 42,
   "metadata": {},
   "outputs": [
    {
     "data": {
      "text/plain": [
       "u'Hands Across Hawthorne was a rally held at the Hawthorne Bridge in Portland, Oregon, on May 29, 2011, in response to an attack on a gay male couple one week earlier for holding hands while walking across the bridge. News of the attack spread throughout the Pacific Northwest and the United States. According to the couple and the Portland Police Bureau, a group of five men followed Brad Forkner and Christopher Rosevear along the bridge before they were physically assaulted. The assault was condemned by Portland s gay mayor, Sam Adams, and its police chief, Mike Reese. The attack prompted volunteers from the Q Center, an LGBT community center and non-profit organization, to form street patrols to monitor Portland s downtown area. Several LGBT and human rights organizations sponsored Hands Across Hawthorne in response to the attack, linking hands across the entire span of the Hawthorne Bridge to show solidarity. More than 4,000 people attended the rally.                '"
      ]
     },
     "execution_count": 42,
     "metadata": {},
     "output_type": "execute_result"
    }
   ],
   "source": [
    "decodificar2(codifcado, mochi, q, i_r)"
   ]
  },
  {
   "cell_type": "code",
   "execution_count": 44,
   "metadata": {
    "scrolled": true
   },
   "outputs": [
    {
     "data": {
      "text/plain": [
       "u'Hands Across Hawthorne was a rally held at the Hawthorne Bridge in Portland, Oregon, on May 29, 2011, in response to an attack on a gay male couple one week earlier for holding hands while walking across the bridge. News of the attack spread throughout the Pacific Northwest and the United States. According to the couple and the Portland Police Bureau, a group of five men followed Brad Forkner and Christopher Rosevear along the bridge before they were physically assaulted. The assault was condemned by Portland s gay mayor, Sam Adams, and its police chief, Mike Reese. The attack prompted volunteers from the Q Center, an LGBT community center and non-profit organization, to form street patrols to monitor Portland s downtown area. Several LGBT and human rights organizations sponsored Hands Across Hawthorne in response to the attack, linking hands across the entire span of the Hawthorne Bridge to show solidarity. More than 4,000 people attended the rally.                '"
      ]
     },
     "execution_count": 44,
     "metadata": {},
     "output_type": "execute_result"
    }
   ],
   "source": [
    "decodificar_brute_force2(codifcado, mochi_c)"
   ]
  },
  {
   "cell_type": "code",
   "execution_count": 85,
   "metadata": {},
   "outputs": [
    {
     "name": "stdout",
     "output_type": "stream",
     "text": [
      "2 0.27799987793\n",
      "3 0.290999889374\n",
      "4 0.269000053406\n",
      "5 0.250999927521\n",
      "6 0.34099984169\n",
      "7 0.328999996185\n",
      "8 0.799000024796\n",
      "9 1.28199982643\n",
      "10 1.42499995232\n",
      "11 3.98300004005\n",
      "12 6.31900000572\n",
      "13 5.45700001717\n"
     ]
    },
    {
     "ename": "KeyboardInterrupt",
     "evalue": "",
     "output_type": "error",
     "traceback": [
      "\u001b[1;31m\u001b[0m",
      "\u001b[1;31mKeyboardInterrupt\u001b[0mTraceback (most recent call last)",
      "\u001b[1;32m<ipython-input-85-d51915964ec1>\u001b[0m in \u001b[0;36m<module>\u001b[1;34m()\u001b[0m\n\u001b[0;32m     12\u001b[0m \u001b[1;33m\u001b[0m\u001b[0m\n\u001b[0;32m     13\u001b[0m     \u001b[0mstart\u001b[0m \u001b[1;33m=\u001b[0m \u001b[0mtime\u001b[0m\u001b[1;33m.\u001b[0m\u001b[0mtime\u001b[0m\u001b[1;33m(\u001b[0m\u001b[1;33m)\u001b[0m\u001b[1;33m\u001b[0m\u001b[0m\n\u001b[1;32m---> 14\u001b[1;33m     \u001b[0mdecodificar_brute_force2\u001b[0m\u001b[1;33m(\u001b[0m\u001b[0mcodifcado\u001b[0m\u001b[1;33m,\u001b[0m \u001b[0mmochi_c\u001b[0m\u001b[1;33m)\u001b[0m\u001b[1;33m\u001b[0m\u001b[0m\n\u001b[0m\u001b[0;32m     15\u001b[0m     \u001b[0mend\u001b[0m \u001b[1;33m=\u001b[0m \u001b[0mtime\u001b[0m\u001b[1;33m.\u001b[0m\u001b[0mtime\u001b[0m\u001b[1;33m(\u001b[0m\u001b[1;33m)\u001b[0m\u001b[1;33m\u001b[0m\u001b[0m\n\u001b[0;32m     16\u001b[0m     \u001b[0mtimes\u001b[0m\u001b[1;33m.\u001b[0m\u001b[0mappend\u001b[0m\u001b[1;33m(\u001b[0m\u001b[0mend\u001b[0m\u001b[1;33m-\u001b[0m\u001b[0mstart\u001b[0m\u001b[1;33m)\u001b[0m\u001b[1;33m\u001b[0m\u001b[0m\n",
      "\u001b[1;32m<ipython-input-30-13324e58f438>\u001b[0m in \u001b[0;36mdecodificar_brute_force2\u001b[1;34m(chunks, mochi_c)\u001b[0m\n\u001b[0;32m     85\u001b[0m     \u001b[0mbits\u001b[0m \u001b[1;33m=\u001b[0m \u001b[1;33m[\u001b[0m\u001b[1;33m]\u001b[0m\u001b[1;33m\u001b[0m\u001b[0m\n\u001b[0;32m     86\u001b[0m     \u001b[1;32mfor\u001b[0m \u001b[0mchunk\u001b[0m \u001b[1;32min\u001b[0m \u001b[0mchunks\u001b[0m\u001b[1;33m:\u001b[0m\u001b[1;33m\u001b[0m\u001b[0m\n\u001b[1;32m---> 87\u001b[1;33m         \u001b[0mbits\u001b[0m \u001b[1;33m+=\u001b[0m \u001b[0mlist\u001b[0m\u001b[1;33m(\u001b[0m\u001b[0mknapsack_brute_force_bits\u001b[0m\u001b[1;33m(\u001b[0m\u001b[0mmochi_c\u001b[0m\u001b[1;33m,\u001b[0m \u001b[0mchunk\u001b[0m\u001b[1;33m)\u001b[0m\u001b[1;33m)\u001b[0m\u001b[1;33m[\u001b[0m\u001b[1;33m:\u001b[0m\u001b[1;33m:\u001b[0m\u001b[1;33m-\u001b[0m\u001b[1;36m1\u001b[0m\u001b[1;33m]\u001b[0m\u001b[1;33m\u001b[0m\u001b[0m\n\u001b[0m\u001b[0;32m     88\u001b[0m     \u001b[1;32mreturn\u001b[0m \u001b[0mbytes_to_text\u001b[0m\u001b[1;33m(\u001b[0m\u001b[1;34m''\u001b[0m\u001b[1;33m.\u001b[0m\u001b[0mjoin\u001b[0m\u001b[1;33m(\u001b[0m\u001b[0mmap\u001b[0m\u001b[1;33m(\u001b[0m\u001b[0mstr\u001b[0m\u001b[1;33m,\u001b[0m \u001b[0mbits\u001b[0m\u001b[1;33m)\u001b[0m\u001b[1;33m)\u001b[0m\u001b[1;33m)\u001b[0m\u001b[1;33m\u001b[0m\u001b[0m\n",
      "\u001b[1;32m<ipython-input-29-bb58f264d014>\u001b[0m in \u001b[0;36mknapsack_brute_force_bits\u001b[1;34m(knapsack, x)\u001b[0m\n\u001b[0;32m     35\u001b[0m \u001b[1;33m\u001b[0m\u001b[0m\n\u001b[0;32m     36\u001b[0m \u001b[1;32mdef\u001b[0m \u001b[0mknapsack_brute_force_bits\u001b[0m\u001b[1;33m(\u001b[0m\u001b[0mknapsack\u001b[0m\u001b[1;33m,\u001b[0m \u001b[0mx\u001b[0m\u001b[1;33m)\u001b[0m\u001b[1;33m:\u001b[0m\u001b[1;33m\u001b[0m\u001b[0m\n\u001b[1;32m---> 37\u001b[1;33m     \u001b[0msol\u001b[0m \u001b[1;33m=\u001b[0m \u001b[0mknapsack_brute_force\u001b[0m\u001b[1;33m(\u001b[0m\u001b[0mknapsack\u001b[0m\u001b[1;33m,\u001b[0m \u001b[0mx\u001b[0m\u001b[1;33m,\u001b[0m \u001b[1;33m[\u001b[0m\u001b[1;33m]\u001b[0m\u001b[1;33m)\u001b[0m\u001b[1;33m[\u001b[0m\u001b[1;36m1\u001b[0m\u001b[1;33m]\u001b[0m\u001b[1;33m\u001b[0m\u001b[0m\n\u001b[0m\u001b[0;32m     38\u001b[0m     \u001b[0mres\u001b[0m \u001b[1;33m=\u001b[0m \u001b[1;33m[\u001b[0m\u001b[1;33m]\u001b[0m\u001b[1;33m\u001b[0m\u001b[0m\n\u001b[0;32m     39\u001b[0m     \u001b[1;31m# dont ask my why in reversed order :D\u001b[0m\u001b[1;33m\u001b[0m\u001b[1;33m\u001b[0m\u001b[0m\n",
      "\u001b[1;32m<ipython-input-29-bb58f264d014>\u001b[0m in \u001b[0;36mknapsack_brute_force\u001b[1;34m(knapsack, x, solution)\u001b[0m\n\u001b[0;32m     32\u001b[0m         \u001b[1;32melse\u001b[0m\u001b[1;33m:\u001b[0m\u001b[1;33m\u001b[0m\u001b[0m\n\u001b[0;32m     33\u001b[0m             \u001b[1;31m# try with not taking the first element\u001b[0m\u001b[1;33m\u001b[0m\u001b[1;33m\u001b[0m\u001b[0m\n\u001b[1;32m---> 34\u001b[1;33m             \u001b[1;32mreturn\u001b[0m \u001b[0mknapsack_brute_force\u001b[0m\u001b[1;33m(\u001b[0m\u001b[0mknapsack\u001b[0m\u001b[1;33m[\u001b[0m\u001b[1;36m1\u001b[0m\u001b[1;33m:\u001b[0m\u001b[1;33m]\u001b[0m\u001b[1;33m,\u001b[0m \u001b[0mx\u001b[0m\u001b[1;33m,\u001b[0m \u001b[0msolution\u001b[0m\u001b[1;33m)\u001b[0m\u001b[1;33m\u001b[0m\u001b[0m\n\u001b[0m\u001b[0;32m     35\u001b[0m \u001b[1;33m\u001b[0m\u001b[0m\n\u001b[0;32m     36\u001b[0m \u001b[1;32mdef\u001b[0m \u001b[0mknapsack_brute_force_bits\u001b[0m\u001b[1;33m(\u001b[0m\u001b[0mknapsack\u001b[0m\u001b[1;33m,\u001b[0m \u001b[0mx\u001b[0m\u001b[1;33m)\u001b[0m\u001b[1;33m:\u001b[0m\u001b[1;33m\u001b[0m\u001b[0m\n",
      "\u001b[1;32m<ipython-input-29-bb58f264d014>\u001b[0m in \u001b[0;36mknapsack_brute_force\u001b[1;34m(knapsack, x, solution)\u001b[0m\n\u001b[0;32m     32\u001b[0m         \u001b[1;32melse\u001b[0m\u001b[1;33m:\u001b[0m\u001b[1;33m\u001b[0m\u001b[0m\n\u001b[0;32m     33\u001b[0m             \u001b[1;31m# try with not taking the first element\u001b[0m\u001b[1;33m\u001b[0m\u001b[1;33m\u001b[0m\u001b[0m\n\u001b[1;32m---> 34\u001b[1;33m             \u001b[1;32mreturn\u001b[0m \u001b[0mknapsack_brute_force\u001b[0m\u001b[1;33m(\u001b[0m\u001b[0mknapsack\u001b[0m\u001b[1;33m[\u001b[0m\u001b[1;36m1\u001b[0m\u001b[1;33m:\u001b[0m\u001b[1;33m]\u001b[0m\u001b[1;33m,\u001b[0m \u001b[0mx\u001b[0m\u001b[1;33m,\u001b[0m \u001b[0msolution\u001b[0m\u001b[1;33m)\u001b[0m\u001b[1;33m\u001b[0m\u001b[0m\n\u001b[0m\u001b[0;32m     35\u001b[0m \u001b[1;33m\u001b[0m\u001b[0m\n\u001b[0;32m     36\u001b[0m \u001b[1;32mdef\u001b[0m \u001b[0mknapsack_brute_force_bits\u001b[0m\u001b[1;33m(\u001b[0m\u001b[0mknapsack\u001b[0m\u001b[1;33m,\u001b[0m \u001b[0mx\u001b[0m\u001b[1;33m)\u001b[0m\u001b[1;33m:\u001b[0m\u001b[1;33m\u001b[0m\u001b[0m\n",
      "\u001b[1;32m<ipython-input-29-bb58f264d014>\u001b[0m in \u001b[0;36mknapsack_brute_force\u001b[1;34m(knapsack, x, solution)\u001b[0m\n\u001b[0;32m     26\u001b[0m     \u001b[1;32melse\u001b[0m\u001b[1;33m:\u001b[0m\u001b[1;33m\u001b[0m\u001b[0m\n\u001b[0;32m     27\u001b[0m         \u001b[1;31m# try with taking the first element\u001b[0m\u001b[1;33m\u001b[0m\u001b[1;33m\u001b[0m\u001b[0m\n\u001b[1;32m---> 28\u001b[1;33m         \u001b[0mresult\u001b[0m \u001b[1;33m=\u001b[0m \u001b[0mknapsack_brute_force\u001b[0m\u001b[1;33m(\u001b[0m\u001b[0mknapsack\u001b[0m\u001b[1;33m[\u001b[0m\u001b[1;36m1\u001b[0m\u001b[1;33m:\u001b[0m\u001b[1;33m]\u001b[0m\u001b[1;33m,\u001b[0m \u001b[0mx\u001b[0m \u001b[1;33m-\u001b[0m \u001b[0mcurr_elem\u001b[0m\u001b[1;33m,\u001b[0m \u001b[0msolution\u001b[0m\u001b[1;33m)\u001b[0m\u001b[1;33m\u001b[0m\u001b[0m\n\u001b[0m\u001b[0;32m     29\u001b[0m         \u001b[1;32mif\u001b[0m \u001b[0mresult\u001b[0m\u001b[1;33m[\u001b[0m\u001b[1;36m0\u001b[0m\u001b[1;33m]\u001b[0m\u001b[1;33m:\u001b[0m\u001b[1;33m\u001b[0m\u001b[0m\n\u001b[0;32m     30\u001b[0m             \u001b[0msolution\u001b[0m\u001b[1;33m.\u001b[0m\u001b[0mappend\u001b[0m\u001b[1;33m(\u001b[0m\u001b[0mcurr_elem\u001b[0m\u001b[1;33m)\u001b[0m\u001b[1;33m\u001b[0m\u001b[0m\n",
      "\u001b[1;32m<ipython-input-29-bb58f264d014>\u001b[0m in \u001b[0;36mknapsack_brute_force\u001b[1;34m(knapsack, x, solution)\u001b[0m\n\u001b[0;32m     32\u001b[0m         \u001b[1;32melse\u001b[0m\u001b[1;33m:\u001b[0m\u001b[1;33m\u001b[0m\u001b[0m\n\u001b[0;32m     33\u001b[0m             \u001b[1;31m# try with not taking the first element\u001b[0m\u001b[1;33m\u001b[0m\u001b[1;33m\u001b[0m\u001b[0m\n\u001b[1;32m---> 34\u001b[1;33m             \u001b[1;32mreturn\u001b[0m \u001b[0mknapsack_brute_force\u001b[0m\u001b[1;33m(\u001b[0m\u001b[0mknapsack\u001b[0m\u001b[1;33m[\u001b[0m\u001b[1;36m1\u001b[0m\u001b[1;33m:\u001b[0m\u001b[1;33m]\u001b[0m\u001b[1;33m,\u001b[0m \u001b[0mx\u001b[0m\u001b[1;33m,\u001b[0m \u001b[0msolution\u001b[0m\u001b[1;33m)\u001b[0m\u001b[1;33m\u001b[0m\u001b[0m\n\u001b[0m\u001b[0;32m     35\u001b[0m \u001b[1;33m\u001b[0m\u001b[0m\n\u001b[0;32m     36\u001b[0m \u001b[1;32mdef\u001b[0m \u001b[0mknapsack_brute_force_bits\u001b[0m\u001b[1;33m(\u001b[0m\u001b[0mknapsack\u001b[0m\u001b[1;33m,\u001b[0m \u001b[0mx\u001b[0m\u001b[1;33m)\u001b[0m\u001b[1;33m:\u001b[0m\u001b[1;33m\u001b[0m\u001b[0m\n",
      "\u001b[1;32m<ipython-input-29-bb58f264d014>\u001b[0m in \u001b[0;36mknapsack_brute_force\u001b[1;34m(knapsack, x, solution)\u001b[0m\n\u001b[0;32m     26\u001b[0m     \u001b[1;32melse\u001b[0m\u001b[1;33m:\u001b[0m\u001b[1;33m\u001b[0m\u001b[0m\n\u001b[0;32m     27\u001b[0m         \u001b[1;31m# try with taking the first element\u001b[0m\u001b[1;33m\u001b[0m\u001b[1;33m\u001b[0m\u001b[0m\n\u001b[1;32m---> 28\u001b[1;33m         \u001b[0mresult\u001b[0m \u001b[1;33m=\u001b[0m \u001b[0mknapsack_brute_force\u001b[0m\u001b[1;33m(\u001b[0m\u001b[0mknapsack\u001b[0m\u001b[1;33m[\u001b[0m\u001b[1;36m1\u001b[0m\u001b[1;33m:\u001b[0m\u001b[1;33m]\u001b[0m\u001b[1;33m,\u001b[0m \u001b[0mx\u001b[0m \u001b[1;33m-\u001b[0m \u001b[0mcurr_elem\u001b[0m\u001b[1;33m,\u001b[0m \u001b[0msolution\u001b[0m\u001b[1;33m)\u001b[0m\u001b[1;33m\u001b[0m\u001b[0m\n\u001b[0m\u001b[0;32m     29\u001b[0m         \u001b[1;32mif\u001b[0m \u001b[0mresult\u001b[0m\u001b[1;33m[\u001b[0m\u001b[1;36m0\u001b[0m\u001b[1;33m]\u001b[0m\u001b[1;33m:\u001b[0m\u001b[1;33m\u001b[0m\u001b[0m\n\u001b[0;32m     30\u001b[0m             \u001b[0msolution\u001b[0m\u001b[1;33m.\u001b[0m\u001b[0mappend\u001b[0m\u001b[1;33m(\u001b[0m\u001b[0mcurr_elem\u001b[0m\u001b[1;33m)\u001b[0m\u001b[1;33m\u001b[0m\u001b[0m\n",
      "\u001b[1;32m<ipython-input-29-bb58f264d014>\u001b[0m in \u001b[0;36mknapsack_brute_force\u001b[1;34m(knapsack, x, solution)\u001b[0m\n\u001b[0;32m     22\u001b[0m \u001b[1;33m\u001b[0m\u001b[0m\n\u001b[0;32m     23\u001b[0m     \u001b[1;32mif\u001b[0m \u001b[0mcurr_elem\u001b[0m \u001b[1;33m>\u001b[0m \u001b[0mx\u001b[0m\u001b[1;33m:\u001b[0m\u001b[1;33m\u001b[0m\u001b[0m\n\u001b[1;32m---> 24\u001b[1;33m         \u001b[1;32mreturn\u001b[0m \u001b[0mknapsack_brute_force\u001b[0m\u001b[1;33m(\u001b[0m\u001b[0mknapsack\u001b[0m\u001b[1;33m[\u001b[0m\u001b[1;36m1\u001b[0m\u001b[1;33m:\u001b[0m\u001b[1;33m]\u001b[0m\u001b[1;33m,\u001b[0m \u001b[0mx\u001b[0m\u001b[1;33m,\u001b[0m \u001b[0msolution\u001b[0m\u001b[1;33m)\u001b[0m\u001b[1;33m\u001b[0m\u001b[0m\n\u001b[0m\u001b[0;32m     25\u001b[0m \u001b[1;33m\u001b[0m\u001b[0m\n\u001b[0;32m     26\u001b[0m     \u001b[1;32melse\u001b[0m\u001b[1;33m:\u001b[0m\u001b[1;33m\u001b[0m\u001b[0m\n",
      "\u001b[1;32m<ipython-input-29-bb58f264d014>\u001b[0m in \u001b[0;36mknapsack_brute_force\u001b[1;34m(knapsack, x, solution)\u001b[0m\n\u001b[0;32m     26\u001b[0m     \u001b[1;32melse\u001b[0m\u001b[1;33m:\u001b[0m\u001b[1;33m\u001b[0m\u001b[0m\n\u001b[0;32m     27\u001b[0m         \u001b[1;31m# try with taking the first element\u001b[0m\u001b[1;33m\u001b[0m\u001b[1;33m\u001b[0m\u001b[0m\n\u001b[1;32m---> 28\u001b[1;33m         \u001b[0mresult\u001b[0m \u001b[1;33m=\u001b[0m \u001b[0mknapsack_brute_force\u001b[0m\u001b[1;33m(\u001b[0m\u001b[0mknapsack\u001b[0m\u001b[1;33m[\u001b[0m\u001b[1;36m1\u001b[0m\u001b[1;33m:\u001b[0m\u001b[1;33m]\u001b[0m\u001b[1;33m,\u001b[0m \u001b[0mx\u001b[0m \u001b[1;33m-\u001b[0m \u001b[0mcurr_elem\u001b[0m\u001b[1;33m,\u001b[0m \u001b[0msolution\u001b[0m\u001b[1;33m)\u001b[0m\u001b[1;33m\u001b[0m\u001b[0m\n\u001b[0m\u001b[0;32m     29\u001b[0m         \u001b[1;32mif\u001b[0m \u001b[0mresult\u001b[0m\u001b[1;33m[\u001b[0m\u001b[1;36m0\u001b[0m\u001b[1;33m]\u001b[0m\u001b[1;33m:\u001b[0m\u001b[1;33m\u001b[0m\u001b[0m\n\u001b[0;32m     30\u001b[0m             \u001b[0msolution\u001b[0m\u001b[1;33m.\u001b[0m\u001b[0mappend\u001b[0m\u001b[1;33m(\u001b[0m\u001b[0mcurr_elem\u001b[0m\u001b[1;33m)\u001b[0m\u001b[1;33m\u001b[0m\u001b[0m\n",
      "\u001b[1;32m<ipython-input-29-bb58f264d014>\u001b[0m in \u001b[0;36mknapsack_brute_force\u001b[1;34m(knapsack, x, solution)\u001b[0m\n\u001b[0;32m     22\u001b[0m \u001b[1;33m\u001b[0m\u001b[0m\n\u001b[0;32m     23\u001b[0m     \u001b[1;32mif\u001b[0m \u001b[0mcurr_elem\u001b[0m \u001b[1;33m>\u001b[0m \u001b[0mx\u001b[0m\u001b[1;33m:\u001b[0m\u001b[1;33m\u001b[0m\u001b[0m\n\u001b[1;32m---> 24\u001b[1;33m         \u001b[1;32mreturn\u001b[0m \u001b[0mknapsack_brute_force\u001b[0m\u001b[1;33m(\u001b[0m\u001b[0mknapsack\u001b[0m\u001b[1;33m[\u001b[0m\u001b[1;36m1\u001b[0m\u001b[1;33m:\u001b[0m\u001b[1;33m]\u001b[0m\u001b[1;33m,\u001b[0m \u001b[0mx\u001b[0m\u001b[1;33m,\u001b[0m \u001b[0msolution\u001b[0m\u001b[1;33m)\u001b[0m\u001b[1;33m\u001b[0m\u001b[0m\n\u001b[0m\u001b[0;32m     25\u001b[0m \u001b[1;33m\u001b[0m\u001b[0m\n\u001b[0;32m     26\u001b[0m     \u001b[1;32melse\u001b[0m\u001b[1;33m:\u001b[0m\u001b[1;33m\u001b[0m\u001b[0m\n",
      "\u001b[1;32m<ipython-input-29-bb58f264d014>\u001b[0m in \u001b[0;36mknapsack_brute_force\u001b[1;34m(knapsack, x, solution)\u001b[0m\n\u001b[0;32m     22\u001b[0m \u001b[1;33m\u001b[0m\u001b[0m\n\u001b[0;32m     23\u001b[0m     \u001b[1;32mif\u001b[0m \u001b[0mcurr_elem\u001b[0m \u001b[1;33m>\u001b[0m \u001b[0mx\u001b[0m\u001b[1;33m:\u001b[0m\u001b[1;33m\u001b[0m\u001b[0m\n\u001b[1;32m---> 24\u001b[1;33m         \u001b[1;32mreturn\u001b[0m \u001b[0mknapsack_brute_force\u001b[0m\u001b[1;33m(\u001b[0m\u001b[0mknapsack\u001b[0m\u001b[1;33m[\u001b[0m\u001b[1;36m1\u001b[0m\u001b[1;33m:\u001b[0m\u001b[1;33m]\u001b[0m\u001b[1;33m,\u001b[0m \u001b[0mx\u001b[0m\u001b[1;33m,\u001b[0m \u001b[0msolution\u001b[0m\u001b[1;33m)\u001b[0m\u001b[1;33m\u001b[0m\u001b[0m\n\u001b[0m\u001b[0;32m     25\u001b[0m \u001b[1;33m\u001b[0m\u001b[0m\n\u001b[0;32m     26\u001b[0m     \u001b[1;32melse\u001b[0m\u001b[1;33m:\u001b[0m\u001b[1;33m\u001b[0m\u001b[0m\n",
      "\u001b[1;32m<ipython-input-29-bb58f264d014>\u001b[0m in \u001b[0;36mknapsack_brute_force\u001b[1;34m(knapsack, x, solution)\u001b[0m\n\u001b[0;32m     26\u001b[0m     \u001b[1;32melse\u001b[0m\u001b[1;33m:\u001b[0m\u001b[1;33m\u001b[0m\u001b[0m\n\u001b[0;32m     27\u001b[0m         \u001b[1;31m# try with taking the first element\u001b[0m\u001b[1;33m\u001b[0m\u001b[1;33m\u001b[0m\u001b[0m\n\u001b[1;32m---> 28\u001b[1;33m         \u001b[0mresult\u001b[0m \u001b[1;33m=\u001b[0m \u001b[0mknapsack_brute_force\u001b[0m\u001b[1;33m(\u001b[0m\u001b[0mknapsack\u001b[0m\u001b[1;33m[\u001b[0m\u001b[1;36m1\u001b[0m\u001b[1;33m:\u001b[0m\u001b[1;33m]\u001b[0m\u001b[1;33m,\u001b[0m \u001b[0mx\u001b[0m \u001b[1;33m-\u001b[0m \u001b[0mcurr_elem\u001b[0m\u001b[1;33m,\u001b[0m \u001b[0msolution\u001b[0m\u001b[1;33m)\u001b[0m\u001b[1;33m\u001b[0m\u001b[0m\n\u001b[0m\u001b[0;32m     29\u001b[0m         \u001b[1;32mif\u001b[0m \u001b[0mresult\u001b[0m\u001b[1;33m[\u001b[0m\u001b[1;36m0\u001b[0m\u001b[1;33m]\u001b[0m\u001b[1;33m:\u001b[0m\u001b[1;33m\u001b[0m\u001b[0m\n\u001b[0;32m     30\u001b[0m             \u001b[0msolution\u001b[0m\u001b[1;33m.\u001b[0m\u001b[0mappend\u001b[0m\u001b[1;33m(\u001b[0m\u001b[0mcurr_elem\u001b[0m\u001b[1;33m)\u001b[0m\u001b[1;33m\u001b[0m\u001b[0m\n",
      "\u001b[1;32m<ipython-input-29-bb58f264d014>\u001b[0m in \u001b[0;36mknapsack_brute_force\u001b[1;34m(knapsack, x, solution)\u001b[0m\n\u001b[0;32m     22\u001b[0m \u001b[1;33m\u001b[0m\u001b[0m\n\u001b[0;32m     23\u001b[0m     \u001b[1;32mif\u001b[0m \u001b[0mcurr_elem\u001b[0m \u001b[1;33m>\u001b[0m \u001b[0mx\u001b[0m\u001b[1;33m:\u001b[0m\u001b[1;33m\u001b[0m\u001b[0m\n\u001b[1;32m---> 24\u001b[1;33m         \u001b[1;32mreturn\u001b[0m \u001b[0mknapsack_brute_force\u001b[0m\u001b[1;33m(\u001b[0m\u001b[0mknapsack\u001b[0m\u001b[1;33m[\u001b[0m\u001b[1;36m1\u001b[0m\u001b[1;33m:\u001b[0m\u001b[1;33m]\u001b[0m\u001b[1;33m,\u001b[0m \u001b[0mx\u001b[0m\u001b[1;33m,\u001b[0m \u001b[0msolution\u001b[0m\u001b[1;33m)\u001b[0m\u001b[1;33m\u001b[0m\u001b[0m\n\u001b[0m\u001b[0;32m     25\u001b[0m \u001b[1;33m\u001b[0m\u001b[0m\n\u001b[0;32m     26\u001b[0m     \u001b[1;32melse\u001b[0m\u001b[1;33m:\u001b[0m\u001b[1;33m\u001b[0m\u001b[0m\n",
      "\u001b[1;32m<ipython-input-29-bb58f264d014>\u001b[0m in \u001b[0;36mknapsack_brute_force\u001b[1;34m(knapsack, x, solution)\u001b[0m\n\u001b[0;32m     22\u001b[0m \u001b[1;33m\u001b[0m\u001b[0m\n\u001b[0;32m     23\u001b[0m     \u001b[1;32mif\u001b[0m \u001b[0mcurr_elem\u001b[0m \u001b[1;33m>\u001b[0m \u001b[0mx\u001b[0m\u001b[1;33m:\u001b[0m\u001b[1;33m\u001b[0m\u001b[0m\n\u001b[1;32m---> 24\u001b[1;33m         \u001b[1;32mreturn\u001b[0m \u001b[0mknapsack_brute_force\u001b[0m\u001b[1;33m(\u001b[0m\u001b[0mknapsack\u001b[0m\u001b[1;33m[\u001b[0m\u001b[1;36m1\u001b[0m\u001b[1;33m:\u001b[0m\u001b[1;33m]\u001b[0m\u001b[1;33m,\u001b[0m \u001b[0mx\u001b[0m\u001b[1;33m,\u001b[0m \u001b[0msolution\u001b[0m\u001b[1;33m)\u001b[0m\u001b[1;33m\u001b[0m\u001b[0m\n\u001b[0m\u001b[0;32m     25\u001b[0m \u001b[1;33m\u001b[0m\u001b[0m\n\u001b[0;32m     26\u001b[0m     \u001b[1;32melse\u001b[0m\u001b[1;33m:\u001b[0m\u001b[1;33m\u001b[0m\u001b[0m\n",
      "\u001b[1;32m<ipython-input-29-bb58f264d014>\u001b[0m in \u001b[0;36mknapsack_brute_force\u001b[1;34m(knapsack, x, solution)\u001b[0m\n\u001b[0;32m      4\u001b[0m         \u001b[1;32mreturn\u001b[0m \u001b[1;33m[\u001b[0m\u001b[0mTrue\u001b[0m\u001b[1;33m,\u001b[0m \u001b[0msolution\u001b[0m\u001b[1;33m]\u001b[0m\u001b[1;33m\u001b[0m\u001b[0m\n\u001b[0;32m      5\u001b[0m \u001b[1;33m\u001b[0m\u001b[0m\n\u001b[1;32m----> 6\u001b[1;33m     \u001b[1;32mif\u001b[0m \u001b[0mlen\u001b[0m\u001b[1;33m(\u001b[0m\u001b[0mknapsack\u001b[0m\u001b[1;33m)\u001b[0m \u001b[1;33m==\u001b[0m \u001b[1;36m0\u001b[0m\u001b[1;33m:\u001b[0m\u001b[1;33m\u001b[0m\u001b[0m\n\u001b[0m\u001b[0;32m      7\u001b[0m         \u001b[1;32mif\u001b[0m \u001b[0mx\u001b[0m \u001b[1;33m==\u001b[0m \u001b[1;36m0\u001b[0m\u001b[1;33m:\u001b[0m\u001b[1;33m\u001b[0m\u001b[0m\n\u001b[0;32m      8\u001b[0m             \u001b[1;32mreturn\u001b[0m \u001b[1;33m[\u001b[0m\u001b[0mTrue\u001b[0m\u001b[1;33m,\u001b[0m \u001b[0msolution\u001b[0m\u001b[1;33m]\u001b[0m\u001b[1;33m\u001b[0m\u001b[0m\n",
      "\u001b[1;31mKeyboardInterrupt\u001b[0m: "
     ]
    }
   ],
   "source": [
    "import time\n",
    "import math\n",
    "\n",
    "times = []\n",
    "for n in range(2, 20):\n",
    "    mochi = new_mochila(N = n, jump = 2**n)\n",
    "    #print math.log(mochi[-1], 2)\n",
    "    q = select_q(mochi)\n",
    "    r, i_r = select_r(q)\n",
    "    mochi_c = mochila_camuflada(mochi, q, r)\n",
    "    codifcado, x = codificar(mochi_c, wikipedia * 10)\n",
    "    \n",
    "    start = time.time()\n",
    "    decodificar_brute_force2(codifcado, mochi_c)\n",
    "    end = time.time()\n",
    "    times.append(end-start)\n",
    "    print n, end - start"
   ]
  },
  {
   "cell_type": "code",
   "execution_count": 86,
   "metadata": {},
   "outputs": [
    {
     "data": {
      "text/plain": [
       "<matplotlib.axes._subplots.AxesSubplot at 0xb29da20>"
      ]
     },
     "execution_count": 86,
     "metadata": {},
     "output_type": "execute_result"
    },
    {
     "data": {
      "image/png": "[encoded data removed]",
      "text/plain": [
       "<matplotlib.figure.Figure at 0xaf00860>"
      ]
     },
     "metadata": {},
     "output_type": "display_data"
    }
   ],
   "source": [
    "import seaborn as sns\n",
    "%matplotlib inline\n",
    "\n",
    "sns.tsplot(times)"
   ]
  },
  {
   "cell_type": "code",
   "execution_count": 8,
   "metadata": {},
   "outputs": [
    {
     "data": {
      "text/plain": [
       "467L"
      ]
     },
     "execution_count": 8,
     "metadata": {},
     "output_type": "execute_result"
    }
   ],
   "source": [
    "(1989946847504225255328163405348356)/ 4258020590543767585443239388571"
   ]
  },
  {
   "cell_type": "markdown",
   "metadata": {},
   "source": [
    "2^n = E(jump) * 2^n"
   ]
  },
  {
   "cell_type": "code",
   "execution_count": null,
   "metadata": {
    "collapsed": true
   },
   "outputs": [],
   "source": []
  },
  {
   "cell_type": "code",
   "execution_count": 13,
   "metadata": {},
   "outputs": [
    {
     "ename": "NameError",
     "evalue": "name 'split2len' is not defined",
     "output_type": "error",
     "traceback": [
      "\u001b[1;31m\u001b[0m",
      "\u001b[1;31mNameError\u001b[0mTraceback (most recent call last)",
      "\u001b[1;32m<ipython-input-13-f087780c5018>\u001b[0m in \u001b[0;36m<module>\u001b[1;34m()\u001b[0m\n\u001b[0;32m      1\u001b[0m \u001b[0mwikipedia\u001b[0m \u001b[1;33m=\u001b[0m \u001b[1;34m'Hands Across Hawthorne was a rally held at the Hawthorne Bridge in Portland, Oregon, on May 29, 2011, in response to an attack on a gay male couple one week earlier for holding hands while walking across the bridge. News of the attack spread throughout the Pacific Northwest and the United States. According to the couple and the Portland Police Bureau, a group of five men followed Brad Forkner and Christopher Rosevear along the bridge before they were physically assaulted. The assault was condemned by Portland s gay mayor, Sam Adams, and its police chief, Mike Reese. The attack prompted volunteers from the Q Center, an LGBT community center and non-profit organization, to form street patrols to monitor Portland s downtown area. Several LGBT and human rights organizations sponsored Hands Across Hawthorne in response to the attack, linking hands across the entire span of the Hawthorne Bridge to show solidarity. More than 4,000 people attended the rally.'\u001b[0m\u001b[1;33m\u001b[0m\u001b[0m\n\u001b[1;32m----> 2\u001b[1;33m \u001b[0msplit2len\u001b[0m\u001b[1;33m(\u001b[0m\u001b[0mtext_to_bytes\u001b[0m\u001b[1;33m(\u001b[0m\u001b[0mwikipedia\u001b[0m\u001b[1;33m,\u001b[0m \u001b[1;36m100\u001b[0m\u001b[1;33m)\u001b[0m\u001b[1;33m,\u001b[0m \u001b[1;36m100\u001b[0m\u001b[1;33m)\u001b[0m\u001b[1;33m\u001b[0m\u001b[0m\n\u001b[0m",
      "\u001b[1;31mNameError\u001b[0m: name 'split2len' is not defined"
     ]
    }
   ],
   "source": [
    "wikipedia = 'Hands Across Hawthorne was a rally held at the Hawthorne Bridge in Portland, Oregon, on May 29, 2011, in response to an attack on a gay male couple one week earlier for holding hands while walking across the bridge. News of the attack spread throughout the Pacific Northwest and the United States. According to the couple and the Portland Police Bureau, a group of five men followed Brad Forkner and Christopher Rosevear along the bridge before they were physically assaulted. The assault was condemned by Portland s gay mayor, Sam Adams, and its police chief, Mike Reese. The attack prompted volunteers from the Q Center, an LGBT community center and non-profit organization, to form street patrols to monitor Portland s downtown area. Several LGBT and human rights organizations sponsored Hands Across Hawthorne in response to the attack, linking hands across the entire span of the Hawthorne Bridge to show solidarity. More than 4,000 people attended the rally.'\n",
    "split2len(text_to_bytes(wikipedia, 100), 100)"
   ]
  }
 ],
 "metadata": {
  "kernelspec": {
   "display_name": "Python 2",
   "language": "python",
   "name": "python2"
  },
  "language_info": {
   "codemirror_mode": {
    "name": "ipython",
    "version": 2
   },
   "file_extension": ".py",
   "mimetype": "text/x-python",
   "name": "python",
   "nbconvert_exporter": "python",
   "pygments_lexer": "ipython2",
   "version": "2.7.13"
  }
 },
 "nbformat": 4,
 "nbformat_minor": 2
}
