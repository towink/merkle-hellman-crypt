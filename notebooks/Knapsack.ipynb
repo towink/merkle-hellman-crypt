{
 "cells": [
  {
   "cell_type": "code",
   "execution_count": 56,
   "metadata": {
    "collapsed": false
   },
   "outputs": [],
   "source": [
    "from __future__ import division\n",
    "import itertools\n",
    "from random import randint, seed\n",
    "from sage.all import gcd, inverse_mod"
   ]
  },
  {
   "cell_type": "code",
   "execution_count": 191,
   "metadata": {
    "collapsed": false
   },
   "outputs": [],
   "source": [
    "def new_mochila(N=10, jump=10, sd=0):\n",
    "    seed(sd)\n",
    "    diff = [randint(1,jump) for k in range(N)]\n",
    "    mochila = [diff[0]]\n",
    "    for i in range(1,len(diff)):\n",
    "        new_val = sum(mochila) + diff[i]\n",
    "        mochila.append(new_val)\n",
    "    return mochila\n",
    "\n",
    "def split2len(s, n=16):\n",
    "    def _f(s, n):\n",
    "        while s:\n",
    "            yield s[:n]\n",
    "            s = s[n:]\n",
    "    return list(_f(s, n))\n",
    "\n",
    "def text_to_bytes(text, n=0):\n",
    "    largo = len(text)\n",
    "    if n > 0:\n",
    "        text = text + ' '*(n - (largo % n))\n",
    "    text = text.decode('utf8')\n",
    "    text_e = ''.join(['{0:016b}'.format(ord(c)) for c in text])\n",
    "    return text_e\n",
    "\n",
    "def bytes_to_text(binary):\n",
    "    return ''.join([unichr(int(ch,2)) for ch in split2len(binary)])\n",
    "\n",
    "def select_q(mochila):\n",
    "    suma = sum(mochila)\n",
    "    return randint(suma+1,suma*10)\n",
    "\n",
    "def select_r(q):\n",
    "    try_r = randint(2,q-1)\n",
    "    while gcd(try_r,q) != 1:\n",
    "        try_r = randint(2,q)\n",
    "    return try_r, inverse_mod(try_r,q)\n",
    "\n",
    "def mochila_camuflada(mochila, q, r):\n",
    "    return [(r*x)% q for x in mochila]\n",
    "\n",
    "def codificar(mochila_camuflada, text):\n",
    "    largo_mochila = len(mochila_camuflada)\n",
    "    assert largo_mochila % 16 == 0\n",
    "    \n",
    "    texto_codificado = text_to_bytes(text,largo_mochila // 16)\n",
    "    a_codifcar = split2len(texto_codificado, largo_mochila)\n",
    "    return [sum([b for (a,b) in zip(k,mochila_camuflada) if a=='1']) for k in a_codifcar], texto_codificado\n",
    "\n",
    "\n",
    "def unpack(n,l):\n",
    "    i = len(l) -1\n",
    "    for i in range(len(l)-1,-1,-1):\n",
    "        if n>0:\n",
    "            if l[i] <= n:\n",
    "                n -= l[i]\n",
    "                res = 1\n",
    "            else:\n",
    "                res = 0\n",
    "            i-=1\n",
    "        else:\n",
    "            res = 0\n",
    "        yield res\n",
    "\n",
    "def decodificar(chunk, mochila_o, q, i_r):\n",
    "    message = (chunk * i_r) % q\n",
    "    int_message = list(unpack(message,mochila_o))[::-1]\n",
    "    return bytes_to_text(''.join(map(str,int_message)))\n",
    "    \n",
    "    \n"
   ]
  },
  {
   "cell_type": "code",
   "execution_count": 192,
   "metadata": {
    "collapsed": false
   },
   "outputs": [],
   "source": [
    "mochi = new_mochila(N=32, jump=5)\n",
    "q = select_q(mochi)\n",
    "r, i_r = select_r(q)\n",
    "mochi_c = mochila_camuflada(mochi, q, r)\n",
    "\n",
    "texto = 'mi mama me mima'\n",
    "codifcado, x= codificar(mochi_c, texto)"
   ]
  },
  {
   "cell_type": "code",
   "execution_count": 193,
   "metadata": {
    "collapsed": false,
    "scrolled": true
   },
   "outputs": [
    {
     "name": "stdout",
     "output_type": "stream",
     "text": [
      "mi mama me mima \n"
     ]
    }
   ],
   "source": [
    "s=''\n",
    "for c in codifcado:\n",
    "    s+=decodificar(c,mochi, q, i_r)\n",
    "print s"
   ]
  }
 ],
 "metadata": {
  "kernelspec": {
   "display_name": "Python 2",
   "language": "python",
   "name": "python2"
  },
  "language_info": {
   "codemirror_mode": {
    "name": "ipython",
    "version": 2
   },
   "file_extension": ".py",
   "mimetype": "text/x-python",
   "name": "python",
   "nbconvert_exporter": "python",
   "pygments_lexer": "ipython2",
   "version": "2.7.13"
  }
 },
 "nbformat": 4,
 "nbformat_minor": 2
}
