{
 "cells": [
  {
   "cell_type": "code",
   "execution_count": 46,
   "metadata": {},
   "outputs": [],
   "source": [
    "from __future__ import division\n",
    "import itertools\n",
    "from random import randint, seed\n",
    "#from sage.all import gcd, inverse_mod"
   ]
  },
  {
   "cell_type": "code",
   "execution_count": 47,
   "metadata": {},
   "outputs": [],
   "source": [
    "# https://en.wikibooks.org/wiki/Algorithm_Implementation/Mathematics/Extended_Euclidean_algorithm\n",
    "def xgcd(b, n):\n",
    "    x0, x1, y0, y1 = 1, 0, 0, 1\n",
    "    while n != 0:\n",
    "        q, b, n = b // n, n, b % n\n",
    "        x0, x1 = x1, x0 - q * x1\n",
    "        y0, y1 = y1, y0 - q * y1\n",
    "    return  b, x0, y0\n",
    "\n",
    "def gcd(a, b):\n",
    "    return xgcd(a, b)[0]\n",
    "\n",
    "def inverse_mod(r, q):\n",
    "    assert gcd(r, q) == 1\n",
    "    res = xgcd(r, q)[1]\n",
    "    if res < 0:\n",
    "        res += q\n",
    "    assert res > 0 and res < q\n",
    "    return res"
   ]
  },
  {
   "cell_type": "code",
   "execution_count": 90,
   "metadata": {
    "collapsed": true
   },
   "outputs": [],
   "source": [
    "def knapsack_brute_force(knapsack, x, solution):\n",
    "    \n",
    "    if x == 0:\n",
    "        return [True, solution]\n",
    "    \n",
    "    if len(knapsack) == 0:\n",
    "        if x == 0:\n",
    "            return [True, solution]\n",
    "        else:\n",
    "            print 'c'\n",
    "            return [False, []]\n",
    "    \n",
    "    if len(knapsack) == 1:\n",
    "        if knapsack[0] == x:\n",
    "            solution.append(x)\n",
    "            return [True, solution]\n",
    "        else:\n",
    "            return [False, ]\n",
    "    \n",
    "    \n",
    "    curr_elem = knapsack[0]\n",
    "    \n",
    "    if curr_elem > x:\n",
    "        return knapsack_brute_force(knapsack[1:], x, solution)\n",
    "    \n",
    "    else:\n",
    "        # try with taking the first element\n",
    "        result = knapsack_brute_force(knapsack[1:], x - curr_elem, solution)\n",
    "        if result[0]:\n",
    "            solution.append(curr_elem)\n",
    "            return [True, solution]\n",
    "        else:\n",
    "            # try with not taking the first element\n",
    "            return knapsack_brute_force(knapsack[1:], x, solution)\n",
    "        \n",
    "def knapsack_brute_force_bits(knapsack, x):\n",
    "    sol = knapsack_brute_force(knapsack, x, [])[1]\n",
    "    res = []\n",
    "    # dont ask my why in inverse order :D\n",
    "    for i in range(1, len(knapsack) + 1):\n",
    "        if knapsack[-i] in sol:\n",
    "            res.append(1)\n",
    "        else:\n",
    "            res.append(0)\n",
    "    return res"
   ]
  },
  {
   "cell_type": "code",
   "execution_count": 91,
   "metadata": {},
   "outputs": [],
   "source": [
    "def new_mochila(N=10, jump=10, sd=0):\n",
    "    seed(sd)\n",
    "    diff = [randint(1,jump) for k in range(N)]\n",
    "    mochila = [diff[0]]\n",
    "    for i in range(1,len(diff)):\n",
    "        new_val = sum(mochila) + diff[i]\n",
    "        mochila.append(new_val)\n",
    "    return mochila\n",
    "\n",
    "def split2len(s, n=16):\n",
    "    def _f(s, n):\n",
    "        while s:\n",
    "            yield s[:n]\n",
    "            s = s[n:]\n",
    "    return list(_f(s, n))\n",
    "\n",
    "def text_to_bytes(text, n=0):\n",
    "    largo = len(text)\n",
    "    if n > 0:\n",
    "        text = text + ' '*(n - (largo % n))\n",
    "    text = text.decode('utf8')\n",
    "    text_e = ''.join(['{0:016b}'.format(ord(c)) for c in text])\n",
    "    return text_e\n",
    "\n",
    "def bytes_to_text(binary):\n",
    "    return ''.join([unichr(int(ch,2)) for ch in split2len(binary)])\n",
    "\n",
    "def select_q(mochila):\n",
    "    suma = sum(mochila)\n",
    "    return randint(suma+1,suma*10)\n",
    "\n",
    "def select_r(q):\n",
    "    try_r = randint(2,q-1)\n",
    "    while gcd(try_r,q) != 1:\n",
    "        try_r = randint(2,q)\n",
    "    return try_r, inverse_mod(try_r,q)\n",
    "\n",
    "def mochila_camuflada(mochila, q, r):\n",
    "    return [(r*x)% q for x in mochila]\n",
    "\n",
    "def codificar(mochila_camuflada, text):\n",
    "    largo_mochila = len(mochila_camuflada)\n",
    "    assert largo_mochila % 16 == 0\n",
    "    \n",
    "    texto_codificado = text_to_bytes(text,largo_mochila // 16)\n",
    "    a_codifcar = split2len(texto_codificado, largo_mochila)\n",
    "    return [sum([b for (a,b) in zip(k,mochila_camuflada) if a=='1']) for k in a_codifcar], texto_codificado\n",
    "\n",
    "\n",
    "def unpack(n,l):\n",
    "    i = len(l) -1\n",
    "    for i in range(len(l)-1,-1,-1):\n",
    "        if n>0:\n",
    "            if l[i] <= n:\n",
    "                n -= l[i]\n",
    "                res = 1\n",
    "            else:\n",
    "                res = 0\n",
    "            i-=1\n",
    "        else:\n",
    "            res = 0\n",
    "        yield res\n",
    "\n",
    "def decodificar(chunk, mochila_o, q, i_r):\n",
    "    message = (chunk * i_r) % q\n",
    "    int_message = list(unpack(message,mochila_o))[::-1]\n",
    "    return bytes_to_text(''.join(map(str,int_message)))\n",
    "\n",
    "def decodificar_brute_force(chunk, mochi_c):\n",
    "    int_message = list(knapsack_brute_force_bits(mochi_c, chunk))[::-1]\n",
    "    return bytes_to_text(''.join(map(str,int_message)))\n",
    "    \n"
   ]
  },
  {
   "cell_type": "code",
   "execution_count": 92,
   "metadata": {},
   "outputs": [
    {
     "name": "stdout",
     "output_type": "stream",
     "text": [
      "[5, 9, 17, 33, 67, 134, 269, 536, 1073, 2146, 4294, 8586, 17171, 34344, 68688, 137374]\n",
      "[2307014, 2133194, 1785554, 1090274, 2137093, 1749897, 932050, 1951010, 1334276L, 144263L, 201616L, 490142L, 1023739L, 1960568L, 1396847L, 356315L]\n",
      "[4525417L, 3923459L, 201616L, 3686501L, 3060209L, 201616L, 4059609L, 4590883L, 2589183L, 2796589L, 1834854L, 4727033L, 201616L, 3330186L, 2036470L, 2589183L, 201616L, 2796589L, 4819161L, 3330186L, 2306447L, 2858593L, 2589183L, 201616L] 000000000100111000000000111100110000000000100000000000000110110100000000111010010000000000100000000000000110011100000000111110100000000001110011000000000111010000000000110000010000000001101110000000000010000000000000011011000000000011100001000000000111001100000000001000000000000001110100000000001100110100000000011011000000000001100100000000001100100100000000011100110000000000100000\n"
     ]
    }
   ],
   "source": [
    "mochi = new_mochila(N=16, jump=5)\n",
    "print mochi\n",
    "q = select_q(mochi)\n",
    "r, i_r = select_r(q)\n",
    "mochi_c = mochila_camuflada(mochi, q, r)\n",
    "print mochi_c\n",
    "\n",
    "texto = 'Nó mé gústÁn lás tÍldÉs'\n",
    "codifcado, x= codificar(mochi_c, texto)\n",
    "print codifcado, x"
   ]
  },
  {
   "cell_type": "code",
   "execution_count": 93,
   "metadata": {
    "scrolled": true
   },
   "outputs": [
    {
     "name": "stdout",
     "output_type": "stream",
     "text": [
      "Nó mé gústÁn lás tÍldÉs \n"
     ]
    }
   ],
   "source": [
    "s=''\n",
    "for c in codifcado:\n",
    "    s+=decodificar(c,mochi, q, i_r)\n",
    "print s"
   ]
  },
  {
   "cell_type": "code",
   "execution_count": 94,
   "metadata": {
    "scrolled": true
   },
   "outputs": [
    {
     "name": "stdout",
     "output_type": "stream",
     "text": [
      "Nó mé gústÁn lás tÍldÉs \n"
     ]
    }
   ],
   "source": [
    "s=''\n",
    "for c in codifcado:\n",
    "    s+=decodificar_brute_force(c,mochi_c)\n",
    "print s"
   ]
  },
  {
   "cell_type": "markdown",
   "metadata": {},
   "source": []
  }
 ],
 "metadata": {
  "kernelspec": {
   "display_name": "Python 2",
   "language": "python",
   "name": "python2"
  },
  "language_info": {
   "codemirror_mode": {
    "name": "ipython",
    "version": 2
   },
   "file_extension": ".py",
   "mimetype": "text/x-python",
   "name": "python",
   "nbconvert_exporter": "python",
   "pygments_lexer": "ipython2",
   "version": "2.7.13"
  }
 },
 "nbformat": 4,
 "nbformat_minor": 2
}
